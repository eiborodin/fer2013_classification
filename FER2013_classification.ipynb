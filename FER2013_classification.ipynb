{
  "nbformat": 4,
  "nbformat_minor": 0,
  "metadata": {
    "colab": {
      "provenance": []
    },
    "kernelspec": {
      "name": "python3",
      "display_name": "Python 3"
    },
    "language_info": {
      "name": "python"
    },
    "accelerator": "GPU",
    "gpuClass": "standard"
  },
  "cells": [
    {
      "cell_type": "code",
      "source": [
        "# from google.colab import drive\n",
        "# drive.mount('/content/drive')"
      ],
      "metadata": {
        "colab": {
          "base_uri": "https://localhost:8080/"
        },
        "id": "DPkKmGT_6M1w",
        "outputId": "87e7ca3f-632f-4d44-cb2c-6b456ca4ddfd"
      },
      "execution_count": 2,
      "outputs": [
        {
          "output_type": "stream",
          "name": "stdout",
          "text": [
            "Drive already mounted at /content/drive; to attempt to forcibly remount, call drive.mount(\"/content/drive\", force_remount=True).\n"
          ]
        }
      ]
    },
    {
      "cell_type": "code",
      "execution_count": 3,
      "metadata": {
        "id": "MfMU25db18M9"
      },
      "outputs": [],
      "source": [
        "%matplotlib inline\n",
        "\n",
        "import torch\n",
        "import torch.nn as nn\n",
        "import torch.nn.functional as F\n",
        "import torch.optim as optim\n",
        "from torch.utils.data import Dataset\n",
        "from torch.utils.data import DataLoader\n",
        "from torchvision.utils import make_grid\n",
        "import albumentations as A\n",
        "from albumentations.pytorch import ToTensorV2"
      ]
    },
    {
      "cell_type": "code",
      "source": [
        "device = torch.device('cuda:0' if torch.cuda.is_available() else 'cpu')\n",
        "\n",
        "# Предполагая, что мы находимся на машине CUDA, это должно вывести устройство CUDA:\n",
        "\n",
        "print(device)"
      ],
      "metadata": {
        "id": "WjZs5CB023BQ",
        "colab": {
          "base_uri": "https://localhost:8080/"
        },
        "outputId": "c7ace940-33bf-44b3-cf52-16c653d9b78e"
      },
      "execution_count": 4,
      "outputs": [
        {
          "output_type": "stream",
          "name": "stdout",
          "text": [
            "cuda:0\n"
          ]
        }
      ]
    },
    {
      "cell_type": "code",
      "source": [
        "import matplotlib.pyplot as plt\n",
        "import numpy as np\n",
        "import pandas as pd"
      ],
      "metadata": {
        "id": "ZOEC9IJC5hu3"
      },
      "execution_count": 5,
      "outputs": []
    },
    {
      "cell_type": "code",
      "source": [
        "class FER2013Dataset(Dataset):\n",
        "  def __init__(self, dataframe: pd.DataFrame, transform: A.Compose = None):\n",
        "    self.__df = dataframe\n",
        "    self.transform = transform\n",
        "  \n",
        "  def __len__(self) -> int:\n",
        "    return len(self.__df)\n",
        "\n",
        "  def __getitem__(self, idx: int) -> tuple[np.ndarray, int]:\n",
        "    if torch.is_tensor(idx):\n",
        "      idx = idx.tolist()\n",
        "\n",
        "    label = self.__df.iloc[idx][0]\n",
        "    image = np.fromstring(self.__df.iloc[idx][1], dtype=np.uint8, sep=' ').reshape(48, 48)\n",
        "\n",
        "    if self.transform is not None:\n",
        "      image = self.transform(image=image)[\"image\"]\n",
        "\n",
        "    return (image, label)"
      ],
      "metadata": {
        "id": "myL5JOpWGWYE"
      },
      "execution_count": 6,
      "outputs": []
    },
    {
      "cell_type": "code",
      "source": [
        "labeled_df = pd.read_csv('https://storage.googleapis.com/kaggle-competitions-data/kaggle-v2/3364/31151/compressed/train.csv.zip?GoogleAccessId=web-data@kaggle-161607.iam.gserviceaccount.com&Expires=1679674254&Signature=sKJ84oSm3WzhKr7t7%2FdrA53IyFFiaj%2FcKCECQwKJtvnMt8n5tBmX5AuImTyMNz0CIqku1Lz6KHctY4OTSwoVbjvkDruqYqmW4xyPR6tPD%2FjxEL8RCD4nFMFy%2B%2FG1MsZuJqIPBw3llbitSZ2g1sPDaDac8S8RpGQQ72cY3%2BDKvkuMV%2FO%2B%2FJgnhZ%2FRpTpMHA9hK8YcsyoZ2hDvW7XATaOCPJMXD3PuRipbFGey13ugQUAjhPnh4qaiW4nrKnca3WbSdHboTfa3FDgkr1eSDYWDbKM7ix57xn92fYgtvX%2BmBYVSo%2B2rhzqy2P5ymeKswxrd6OyAq6zfiOuoHzgTuhTsYQ%3D%3D&response-content-disposition=attachment%3B+filename%3Dtrain.csv.zip')\n",
        "# labeled_df = pd.read_csv('/content/drive/MyDrive/datasets/fer2013/train.csv')"
      ],
      "metadata": {
        "id": "51J9TI1dLOEF"
      },
      "execution_count": 7,
      "outputs": []
    },
    {
      "cell_type": "code",
      "source": [
        "def split_dataset(df: pd.DataFrame, train: float = 0.8, validation: float = 0.2) -> tuple[pd.DataFrame, pd.DataFrame, pd.DataFrame]:\n",
        "  mask: bool = np.random.rand(len(df)) < train\n",
        "  train_df: pd.DataFrame = df[mask]\n",
        "  test_df: pd.DataFrame = df[~mask]\n",
        "  mask_validation: bool = np.random.rand(len(train_df)) < validation\n",
        "  val_df: pd.DataFrame = train_df[mask_validation]\n",
        "  final_train_df: pd.DataFrame = train_df[~mask_validation]\n",
        "  return (final_train_df, val_df, test_df)"
      ],
      "metadata": {
        "id": "dxmWY6z3QOHR"
      },
      "execution_count": 8,
      "outputs": []
    },
    {
      "cell_type": "code",
      "source": [
        "(train_df, val_df, test_df) = split_dataset(labeled_df)"
      ],
      "metadata": {
        "id": "tT-x2-0OLidd"
      },
      "execution_count": 9,
      "outputs": []
    },
    {
      "cell_type": "code",
      "source": [
        "transform_train = A.Compose([\n",
        "    A.ShiftScaleRotate(\n",
        "        shift_limit=0.05,\n",
        "        scale_limit=0.05,\n",
        "        rotate_limit=20, p=0.5),\n",
        "    A.Normalize(mean=(0.5), std=(0.5)),\n",
        "    ToTensorV2(),\n",
        "])\n",
        "\n",
        "transform_val = A.Compose([\n",
        "    A.Normalize(mean=(0.5), std=(0.5)),\n",
        "    ToTensorV2(),\n",
        "])\n",
        "\n",
        "batch_size = 4\n",
        "\n",
        "trainset = FER2013Dataset(train_df, transform=transform_train)\n",
        "trainloader = DataLoader(trainset, batch_size=batch_size,\n",
        "                                          shuffle=True, num_workers=2)\n",
        "\n",
        "validationset = FER2013Dataset(val_df, transform=transform_val)\n",
        "validationloader = DataLoader(validationset, batch_size=batch_size,\n",
        "                                          shuffle=False, num_workers=2)\n",
        "\n",
        "testset = FER2013Dataset(test_df, transform=transform_val)\n",
        "testloader = DataLoader(testset, batch_size=batch_size,\n",
        "                                          shuffle=False, num_workers=2)\n",
        "\n",
        "classes = ('angry', 'disgust', 'fear', 'happy', 'sad', 'surprise', 'neutral')"
      ],
      "metadata": {
        "id": "MMdo5sjSuFFj"
      },
      "execution_count": null,
      "outputs": []
    },
    {
      "cell_type": "code",
      "source": [
        "# Show images\n",
        "\n",
        "def imshow(img):\n",
        "    img = img / 2 + 0.5     # обратная нормализация\n",
        "    npimg = img.numpy()\n",
        "    plt.imshow(np.transpose(npimg, (1, 2, 0)))\n",
        "    plt.show()\n",
        "\n",
        "\n",
        "# выбираем случайные изображения\n",
        "dataiter = iter(trainloader)\n",
        "images, labels = next(dataiter)\n",
        "\n",
        "# отображаем изображения\n",
        "imshow(make_grid(images))\n",
        "# подписываем лейблы\n",
        "print(' '.join(f'{classes[labels[j]]:5s}' for j in range(batch_size)))"
      ],
      "metadata": {
        "colab": {
          "base_uri": "https://localhost:8080/",
          "height": 154
        },
        "id": "sxVmtBrDQzlQ",
        "outputId": "7c86eea7-0d26-49e5-c05f-f66e3bd16bd9"
      },
      "execution_count": null,
      "outputs": [
        {
          "output_type": "display_data",
          "data": {
            "text/plain": [
              "<Figure size 432x288 with 1 Axes>"
            ],
            "image/png": "[encoded data removed]"
          },
          "metadata": {
            "needs_background": "light"
          }
        },
        {
          "output_type": "stream",
          "name": "stdout",
          "text": [
            "fear  neutral fear  angry\n"
          ]
        }
      ]
    },
    {
      "cell_type": "code",
      "source": [
        "class Model(nn.Module):\n",
        "  def __init__(self):\n",
        "        super().__init__()\n",
        "        self.conv1 = nn.Conv2d(1, 20, 5) # 22 x 22 after pooling\n",
        "        self.conv2 = nn.Conv2d(20, 16, 5) # 9 x 9 after pooling\n",
        "        self.pool = nn.MaxPool2d(2,2)\n",
        "        self.fc1 = nn.Linear(16 * 9 * 9, 2048)\n",
        "        self.fc2 = nn.Linear(2048, 1024)\n",
        "        self.fc3 = nn.Linear(1024, 7) # 7 classes\n",
        "\n",
        "  def forward(self, x):\n",
        "        x = self.pool(F.relu(self.conv1(x)))\n",
        "        x = self.pool(F.relu(self.conv2(x)))\n",
        "        x = torch.flatten(x, 1)\n",
        "        x = F.relu(self.fc1(x))\n",
        "        x = F.relu(self.fc2(x))\n",
        "        x = self.fc3(x)\n",
        "        return x"
      ],
      "metadata": {
        "id": "sm2J1wzrx3uc"
      },
      "execution_count": null,
      "outputs": []
    },
    {
      "cell_type": "code",
      "source": [
        "model = Model().to(device)\n",
        "criterion = nn.CrossEntropyLoss().to(device)\n",
        "optimizer = optim.SGD(model.parameters(), lr=0.001, momentum=0.9)"
      ],
      "metadata": {
        "id": "uMiMgR5s363c"
      },
      "execution_count": null,
      "outputs": []
    },
    {
      "cell_type": "code",
      "source": [
        "def one_training_epoch(model: Model, trainloader: DataLoader, criterion, optimizer: optim.Optimizer) -> float:\n",
        "  model.train()\n",
        "  running_loss = 0.0\n",
        "\n",
        "  for i, data in enumerate(trainloader, 0):\n",
        "      # получить входные данные; данные — это список [входов, меток]\n",
        "      inputs, labels = data\n",
        "      inputs, labels = inputs.to(device), labels.to(device)\n",
        "\n",
        "      # обнулить градиенты параметров\n",
        "      optimizer.zero_grad()\n",
        "\n",
        "      # forward + backward + optimize\n",
        "      outputs = model(inputs)\n",
        "      loss = criterion(outputs, labels)\n",
        "      loss.backward()\n",
        "      optimizer.step()\n",
        "\n",
        "      # вывести статистику\n",
        "      running_loss += loss.item()\n",
        "\n",
        "  avg_loss = running_loss / (i + 1)\n",
        "  return avg_loss"
      ],
      "metadata": {
        "id": "YsypPef5RJB3"
      },
      "execution_count": null,
      "outputs": []
    },
    {
      "cell_type": "code",
      "source": [
        "epochs = 10\n",
        "losses = []\n",
        "vlosses = []\n",
        "\n",
        "for epoch in range(epochs):\n",
        "    # train\n",
        "    avg_loss = one_training_epoch(model, trainloader, criterion, optimizer)\n",
        "    losses.append(avg_loss)\n",
        "    # validate\n",
        "    model.eval()\n",
        "    running_vloss = 0.0\n",
        "    for i, vdata in enumerate(validationloader):\n",
        "        vinputs, vlabels = vdata\n",
        "        vinputs, vlabels = vinputs.to(device), vlabels.to(device)\n",
        "        voutputs = model(vinputs)\n",
        "        vloss = criterion(voutputs, vlabels)\n",
        "        running_vloss += vloss.item()\n",
        "    vlosses.append(running_vloss / (i + 1))\n",
        "\n",
        "    print(f'EPOCH {epoch + 1}, TRAIN_LOSS: {losses[epoch]:.3f}, VAL_LOSS: {vlosses[epoch]:.3f}')"
      ],
      "metadata": {
        "colab": {
          "base_uri": "https://localhost:8080/"
        },
        "id": "rjeFFNDT5ga-",
        "outputId": "bc44b254-95eb-4657-f602-926c8a818ad1"
      },
      "execution_count": null,
      "outputs": [
        {
          "output_type": "stream",
          "name": "stdout",
          "text": [
            "EPOCH 1, TRAIN_LOSS: 1.739, VAL_LOSS: 1.581\n",
            "EPOCH 2, TRAIN_LOSS: 1.609, VAL_LOSS: 1.481\n",
            "EPOCH 3, TRAIN_LOSS: 1.503, VAL_LOSS: 1.392\n",
            "EPOCH 4, TRAIN_LOSS: 1.410, VAL_LOSS: 1.298\n",
            "EPOCH 5, TRAIN_LOSS: 1.325, VAL_LOSS: 1.253\n",
            "EPOCH 6, TRAIN_LOSS: 1.248, VAL_LOSS: 1.231\n",
            "EPOCH 7, TRAIN_LOSS: 1.181, VAL_LOSS: 1.206\n"
          ]
        }
      ]
    },
    {
      "cell_type": "code",
      "source": [
        "# show train vs validation losses plot\n",
        "plt.plot([i + 1 for i in range(epochs)], losses, label = \"train_loss\")\n",
        "plt.plot([i + 1 for i in range(epochs)], vlosses, label = \"val_loss\")\n",
        "plt.legend()\n",
        "plt.show()"
      ],
      "metadata": {
        "colab": {
          "base_uri": "https://localhost:8080/",
          "height": 265
        },
        "id": "REs3zXJO-2Mi",
        "outputId": "cbebf344-c849-43c1-dde7-62cd43cc8ee6"
      },
      "execution_count": null,
      "outputs": [
        {
          "output_type": "display_data",
          "data": {
            "text/plain": [
              "<Figure size 432x288 with 1 Axes>"
            ],
            "image/png": "[encoded data removed]"
          },
          "metadata": {
            "needs_background": "light"
          }
        }
      ]
    },
    {
      "cell_type": "code",
      "source": [
        "for i in range(epochs):\n",
        "  print(f'EPOCH {i + 1}, TRAIN_LOSS: {losses[i]:.3f}, VAL_LOSS: {vlosses[i]:.3f}')"
      ],
      "metadata": {
        "colab": {
          "base_uri": "https://localhost:8080/"
        },
        "id": "TUYnFEKdVPIJ",
        "outputId": "c774009a-9ca0-40c2-f4eb-a77376d13534"
      },
      "execution_count": null,
      "outputs": [
        {
          "output_type": "stream",
          "name": "stdout",
          "text": [
            "EPOCH 1, TRAIN_LOSS: 1.735, VAL_LOSS: 1.589\n",
            "EPOCH 2, TRAIN_LOSS: 1.590, VAL_LOSS: 1.448\n",
            "EPOCH 3, TRAIN_LOSS: 1.487, VAL_LOSS: 1.373\n",
            "EPOCH 4, TRAIN_LOSS: 1.395, VAL_LOSS: 1.342\n",
            "EPOCH 5, TRAIN_LOSS: 1.315, VAL_LOSS: 1.256\n",
            "EPOCH 6, TRAIN_LOSS: 1.243, VAL_LOSS: 1.300\n",
            "EPOCH 7, TRAIN_LOSS: 1.171, VAL_LOSS: 1.206\n",
            "EPOCH 8, TRAIN_LOSS: 1.097, VAL_LOSS: 1.263\n",
            "EPOCH 9, TRAIN_LOSS: 1.031, VAL_LOSS: 1.318\n",
            "EPOCH 10, TRAIN_LOSS: 0.957, VAL_LOSS: 1.217\n",
            "EPOCH 11, TRAIN_LOSS: 0.883, VAL_LOSS: 1.247\n",
            "EPOCH 12, TRAIN_LOSS: 0.821, VAL_LOSS: 1.346\n",
            "EPOCH 13, TRAIN_LOSS: 0.756, VAL_LOSS: 1.332\n",
            "EPOCH 14, TRAIN_LOSS: 0.712, VAL_LOSS: 1.347\n",
            "EPOCH 15, TRAIN_LOSS: 0.652, VAL_LOSS: 1.410\n"
          ]
        }
      ]
    },
    {
      "cell_type": "code",
      "source": [
        "# save model\n",
        "\n",
        "PATH = './fer_model.pth'\n",
        "torch.save(model.state_dict(), PATH)"
      ],
      "metadata": {
        "id": "xibY57Mg5olR"
      },
      "execution_count": null,
      "outputs": []
    },
    {
      "cell_type": "code",
      "source": [
        "correct = 0\n",
        "total = 0\n",
        "# поскольку мы не обучаемся, нам не нужно вычислять градиенты для наших выходных данных.\n",
        "with torch.no_grad():\n",
        "    for data in testloader:\n",
        "        images, labels = data\n",
        "        images, labels = images.to(device), labels.to(device)\n",
        "        # вычисляем выходные данные, прогоняя изображения по сети\n",
        "        outputs = model(images)\n",
        "        # класс с наибольшей энергией - это то, что мы выбираем в качестве прогноза\n",
        "        _, predicted = torch.max(outputs.data, 1)\n",
        "        total += labels.size(0)\n",
        "        correct += (predicted == labels).sum().item()\n",
        "\n",
        "print(f'Accuracy of the network on the {len(testset)} test images: {100 * correct // total} %')"
      ],
      "metadata": {
        "colab": {
          "base_uri": "https://localhost:8080/"
        },
        "id": "x24N4s4S_OJ3",
        "outputId": "cb838dbc-61e9-47f1-88ec-86659cfd2c56"
      },
      "execution_count": null,
      "outputs": [
        {
          "output_type": "stream",
          "name": "stdout",
          "text": [
            "Accuracy of the network on the 5742 test images: 52 %\n"
          ]
        }
      ]
    }
  ]
}